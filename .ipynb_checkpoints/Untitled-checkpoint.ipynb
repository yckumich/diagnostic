{
 "cells": [
  {
   "cell_type": "code",
   "execution_count": 2,
   "id": "03bd6a0a-1d79-49f6-a6d7-3553153d957d",
   "metadata": {},
   "outputs": [],
   "source": [
    "from sqlalchemy.orm import Session\n",
    "from data.database import engine, Base, get_db\n",
    "from data.models import *  # Import all models generated in models.py"
   ]
  },
  {
   "cell_type": "code",
   "execution_count": 3,
   "id": "883912b9-ba8f-4e57-b70f-02fdc47499a2",
   "metadata": {},
   "outputs": [],
   "source": [
    "# Create the database tables (if they don't already exist)\n",
    "Base.metadata.create_all(bind=engine)\n"
   ]
  },
  {
   "cell_type": "code",
   "execution_count": null,
   "id": "2f5909cf-7b40-421c-ad41-1f8fcbc7c402",
   "metadata": {},
   "outputs": [],
   "source": [
    "def test_connection():\n",
    "    # Create a new session\n",
    "    db = Session(bind=engine)\n",
    "    try:\n",
    "        # Query the first 10 records from a table (adjust the table name as needed)\n",
    "        # Replace 'YourTableName' with an actual table name from your models\n",
    "        results = db.query(t_tableau3_t2_tjfs_join_edl_dashadmin).limit(2).all()\n",
    "        for result in results:\n",
    "            print()\n",
    "            print(result)\n",
    "    finally:\n",
    "        db.close()\n"
   ]
  },
  {
   "cell_type": "code",
   "execution_count": 4,
   "id": "7ceb7e22-0e07-4e9b-a47d-7f46be42d4ea",
   "metadata": {},
   "outputs": [],
   "source": [
    "db = Session(bind=engine)\n",
    "results = db.query(t_tableau3_t2_tjfs_join_edl_dashadmin).limit(2).all()"
   ]
  },
  {
   "cell_type": "code",
   "execution_count": 5,
   "id": "f7c48928-d83d-4741-bf5d-ba72a7fbe6e1",
   "metadata": {},
   "outputs": [
    {
     "data": {
      "text/plain": [
       "[('1,25 dihydroxyvitamin D',\n",
       "  'Condition Specific',\n",
       "  'Hypercalcemia',\n",
       "  'tmp',\n",
       "  'DiffDiagnosis',\n",
       "  'delete this',\n",
       "  None,\n",
       "  'Remaining',\n",
       "  'calcitonin',\n",
       "  None,\n",
       "  '',\n",
       "  'OTHER SPECIALIST DRUGS|Orthopaedics||||',\n",
       "  None,\n",
       "  None,\n",
       "  None,\n",
       "  None,\n",
       "  None,\n",
       "  None,\n",
       "  'No',\n",
       "  'Vit. D (1,25)',\n",
       "  'Vitamin D, dihydroxy (1,25)',\n",
       "  'General medicine',\n",
       "  'No',\n",
       "  'No',\n",
       "  'No',\n",
       "  'No',\n",
       "  'No',\n",
       "  'Yes',\n",
       "  'No',\n",
       "  'Yes',\n",
       "  'SM',\n",
       "  'Yes',\n",
       "  None,\n",
       "  'calcitonin',\n",
       "  None,\n",
       "  None,\n",
       "  None,\n",
       "  'Done',\n",
       "  1683,\n",
       "  'abdulazi',\n",
       "  'SM',\n",
       "  'No',\n",
       "  None,\n",
       "  None,\n",
       "  'OTHER SPECIALIST DRUGS|Orthopaedics||||',\n",
       "  'No',\n",
       "  'No',\n",
       "  'Automated immunoassay analyzer, specialized',\n",
       "  'Serum',\n",
       "  'Chemistry',\n",
       "  None,\n",
       "  None,\n",
       "  None,\n",
       "  None,\n",
       "  'OTHER SPECIALIST DRUGS',\n",
       "  'No',\n",
       "  None,\n",
       "  'No',\n",
       "  None,\n",
       "  'No',\n",
       "  'Specialized/Restricted',\n",
       "  '',\n",
       "  '',\n",
       "  'Tertiary',\n",
       "  'Yes',\n",
       "  'Tertiary',\n",
       "  'Yes',\n",
       "  None,\n",
       "  None,\n",
       "  None,\n",
       "  None,\n",
       "  None,\n",
       "  None,\n",
       "  None),\n",
       " ('1,25 dihydroxyvitamin D',\n",
       "  'Condition Specific',\n",
       "  'Hypercalcemia',\n",
       "  'tmp',\n",
       "  'DiffDiagnosis',\n",
       "  'delete this',\n",
       "  None,\n",
       "  'Remaining',\n",
       "  'pamidronate',\n",
       "  None,\n",
       "  None,\n",
       "  'OTHER SPECIALIST DRUGS|Orthopaedics||||',\n",
       "  None,\n",
       "  None,\n",
       "  None,\n",
       "  None,\n",
       "  None,\n",
       "  None,\n",
       "  'No',\n",
       "  'Vit. D (1,25)',\n",
       "  'Vitamin D, dihydroxy (1,25)',\n",
       "  'General medicine',\n",
       "  'No',\n",
       "  'No',\n",
       "  'No',\n",
       "  'No',\n",
       "  'No',\n",
       "  'Yes',\n",
       "  'No',\n",
       "  'Yes',\n",
       "  'SM',\n",
       "  'Yes',\n",
       "  None,\n",
       "  'pamidronate',\n",
       "  None,\n",
       "  None,\n",
       "  None,\n",
       "  'Done',\n",
       "  1685,\n",
       "  'abdulazi',\n",
       "  'SM',\n",
       "  'No',\n",
       "  None,\n",
       "  None,\n",
       "  'OTHER SPECIALIST DRUGS|Orthopaedics||||',\n",
       "  'No',\n",
       "  'No',\n",
       "  'Automated immunoassay analyzer, specialized',\n",
       "  'Serum',\n",
       "  'Chemistry',\n",
       "  None,\n",
       "  None,\n",
       "  None,\n",
       "  None,\n",
       "  'OTHER SPECIALIST DRUGS',\n",
       "  'No',\n",
       "  None,\n",
       "  'No',\n",
       "  None,\n",
       "  'No',\n",
       "  'Specialized/Restricted',\n",
       "  '',\n",
       "  '',\n",
       "  'Tertiary',\n",
       "  'Yes',\n",
       "  'Tertiary',\n",
       "  'Yes',\n",
       "  None,\n",
       "  None,\n",
       "  None,\n",
       "  None,\n",
       "  None,\n",
       "  None,\n",
       "  None)]"
      ]
     },
     "execution_count": 5,
     "metadata": {},
     "output_type": "execute_result"
    }
   ],
   "source": [
    "results"
   ]
  },
  {
   "cell_type": "code",
   "execution_count": null,
   "id": "9fb4fcfd-1173-4294-ac21-dc71da12dc74",
   "metadata": {},
   "outputs": [],
   "source": []
  },
  {
   "cell_type": "code",
   "execution_count": null,
   "id": "29916e6c-e751-44cf-9287-3b5d08a37d65",
   "metadata": {},
   "outputs": [],
   "source": []
  },
  {
   "cell_type": "code",
   "execution_count": null,
   "id": "9a857e23-dce7-454d-9ba4-fb22784460fd",
   "metadata": {},
   "outputs": [],
   "source": []
  },
  {
   "cell_type": "code",
   "execution_count": null,
   "id": "9698e88b-7ad6-4624-a9e6-bad926a8c6d4",
   "metadata": {},
   "outputs": [],
   "source": []
  },
  {
   "cell_type": "code",
   "execution_count": null,
   "id": "fddcae0c-b3bc-47ff-9f2a-65dab2d95294",
   "metadata": {},
   "outputs": [],
   "source": []
  },
  {
   "cell_type": "code",
   "execution_count": null,
   "id": "3d99132f-7d14-44d4-9aec-471624288317",
   "metadata": {},
   "outputs": [],
   "source": []
  },
  {
   "cell_type": "code",
   "execution_count": null,
   "id": "51ae51f7-29a4-4ea0-ab10-edacf9a491ef",
   "metadata": {},
   "outputs": [],
   "source": []
  },
  {
   "cell_type": "code",
   "execution_count": null,
   "id": "f538afaa-f7e5-4cb0-9005-67b25a211201",
   "metadata": {},
   "outputs": [],
   "source": []
  },
  {
   "cell_type": "code",
   "execution_count": null,
   "id": "06353983-0ccb-40e9-adec-4b8d6ffadbac",
   "metadata": {},
   "outputs": [],
   "source": []
  },
  {
   "cell_type": "code",
   "execution_count": null,
   "id": "663bad87-f449-4bf8-b059-47dbf0f04c4c",
   "metadata": {},
   "outputs": [],
   "source": []
  },
  {
   "cell_type": "code",
   "execution_count": null,
   "id": "7464ca70-943f-4cd8-bb88-bcee56567062",
   "metadata": {},
   "outputs": [],
   "source": []
  },
  {
   "cell_type": "code",
   "execution_count": null,
   "id": "d0726f98-abc7-44c7-a9f7-402a3a4fdfb0",
   "metadata": {},
   "outputs": [],
   "source": []
  },
  {
   "cell_type": "code",
   "execution_count": null,
   "id": "bf8c1209-0cc9-4255-9060-d33c32007582",
   "metadata": {},
   "outputs": [],
   "source": []
  },
  {
   "cell_type": "code",
   "execution_count": null,
   "id": "ac80d436-3d31-41f0-acf5-8ff7ee782049",
   "metadata": {},
   "outputs": [],
   "source": []
  },
  {
   "cell_type": "code",
   "execution_count": null,
   "id": "8f2013f8-414c-451f-9ca0-02669fb981f8",
   "metadata": {},
   "outputs": [],
   "source": []
  },
  {
   "cell_type": "code",
   "execution_count": null,
   "id": "c64dd625-201a-461f-9875-af2971ebe21d",
   "metadata": {},
   "outputs": [],
   "source": []
  },
  {
   "cell_type": "code",
   "execution_count": null,
   "id": "e451e4f3-1e60-4d13-af9d-b92a296733ff",
   "metadata": {},
   "outputs": [],
   "source": []
  },
  {
   "cell_type": "code",
   "execution_count": null,
   "id": "7d7cc8d4-a0b8-40ae-8868-e520145c1b2a",
   "metadata": {},
   "outputs": [],
   "source": []
  },
  {
   "cell_type": "code",
   "execution_count": null,
   "id": "0af0bdc9-68bc-47c3-af4e-79c84732066f",
   "metadata": {},
   "outputs": [],
   "source": []
  },
  {
   "cell_type": "code",
   "execution_count": null,
   "id": "c80f0bae-0255-4b3d-8cac-44e01b6379d9",
   "metadata": {},
   "outputs": [],
   "source": []
  }
 ],
 "metadata": {
  "kernelspec": {
   "display_name": "Python 3 (ipykernel)",
   "language": "python",
   "name": "python3"
  },
  "language_info": {
   "codemirror_mode": {
    "name": "ipython",
    "version": 3
   },
   "file_extension": ".py",
   "mimetype": "text/x-python",
   "name": "python",
   "nbconvert_exporter": "python",
   "pygments_lexer": "ipython3",
   "version": "3.10.0"
  }
 },
 "nbformat": 4,
 "nbformat_minor": 5
}
