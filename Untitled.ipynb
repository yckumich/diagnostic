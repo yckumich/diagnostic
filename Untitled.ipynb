{
 "cells": [
  {
   "cell_type": "code",
   "execution_count": 25,
   "id": "03bd6a0a-1d79-49f6-a6d7-3553153d957d",
   "metadata": {},
   "outputs": [],
   "source": [
    "from sqlalchemy.sql.schema import Table\n",
    "from sqlalchemy.orm.query import Query\n",
    "from sqlalchemy.orm import Session\n",
    "from data.database import engine, Base, get_db\n",
    "import pandas as pd\n",
    "from data.models import t_tableau3_t2_tjfs_join_edl_dashadmin  # Import all models generated in models.py\n",
    "import sys\n",
    "from typing import List\n",
    "from utils.filter import high_level_filter_map\n",
    "from utils.utils import convert_query_to_df, extract_unique_values, create_filter_map, convert_filter_to_query\n",
    "from typing import Dict, List\n",
    "\n",
    "import math\n",
    "import pandas as pd\n",
    "from typing import List, Any\n",
    "\n",
    "\n",
    "# Create the database tables (if they don't already exist)\n",
    "Base.metadata.create_all(bind=engine)\n",
    "\n",
    "## Total Test count: 31498"
   ]
  },
  {
   "cell_type": "code",
   "execution_count": 3,
   "id": "6a42d90c-7d22-4ee1-823c-844b8df654d2",
   "metadata": {},
   "outputs": [],
   "source": [
    "def get_unique_values(input_list: List[Any]) -> List[Any]:\n",
    "    \"\"\"\n",
    "    This function takes a list containing various types including float('nan') and returns a new list\n",
    "    with unique values and compresses all 'nan' values into a single occurrence.\n",
    "    \"\"\"\n",
    "    def is_nan(value):\n",
    "        return isinstance(value, float) and math.isnan(value)\n",
    "\n",
    "    nans = list(filter(is_nan, input_list))\n",
    "    non_nans = list(filter(lambda x: not is_nan(x), input_list))\n",
    "    unique_non_nans = list(set(non_nans))\n",
    "    if nans:\n",
    "        unique_non_nans.append(float('nan'))\n",
    "    return unique_non_nans"
   ]
  },
  {
   "cell_type": "code",
   "execution_count": null,
   "id": "57fea42a-826b-4ea9-84a5-883318560aa3",
   "metadata": {},
   "outputs": [],
   "source": [
    "# selection = {'Diagnostic': {'Laboratory': ['Toxicology', 'Radiology'], 'Test Format': [], 'Test Reason': ['Diagnosis', 'DiffDiagnosis'], 'Category': []}, 'Medicine': {'Medicine': ['anastrozole']}, 'Condition': {'High Burden Disease': [], 'Clinical Service': [], 'Condition Name': []}, 'WHO EDL/EML': {'WHO EDL v2': [], 'WHO EDL v2 Tier': [], 'WHO EML v20': [], 'EML Category': []}}\n",
    "# filters = convert_selection_to_filter(selection)\n",
    "# filters"
   ]
  },
  {
   "cell_type": "code",
   "execution_count": 28,
   "id": "d9fd06a5-c9e9-44f2-8a4a-e180a16228a7",
   "metadata": {},
   "outputs": [],
   "source": [
    "db = Session(bind=engine)\n",
    "table = t_tableau3_t2_tjfs_join_edl_dashadmin\n",
    "query = db.query(table).filter(table.c['testname'].in_(['ACTH']))\n",
    "res_df = convert_query_to_df(query)"
   ]
  },
  {
   "cell_type": "code",
   "execution_count": null,
   "id": "65fe9d84-d529-4a5e-9855-908c34bdf277",
   "metadata": {},
   "outputs": [],
   "source": [
    "def list_test_detail(df:pd.DataFrame):\n",
    "    \"\"\"\n",
    "    df contains dataframe of a single test\n",
    "    \"\"\"\n",
    "    col_to_unique_map = dict()\n",
    "    for col in df.columns:\n",
    "        col_to_unique_map[col] = get_unique_values(list(res_df[col]))\n",
    "    \n",
    "    return col_to_unique_map\n",
    "        "
   ]
  },
  {
   "cell_type": "code",
   "execution_count": 32,
   "id": "2f321b25-df3d-4c46-8202-761de1d084c1",
   "metadata": {},
   "outputs": [
    {
     "data": {
      "text/plain": [
       "['testname',\n",
       " 'category',\n",
       " 'conditionname',\n",
       " 'conditionlevel',\n",
       " 'testreason',\n",
       " 'testnote',\n",
       " 'medicineorconditionnote',\n",
       " 'sublist',\n",
       " 'medicine',\n",
       " 'conditionnotefromusestable',\n",
       " 'medicineusesgeneralnote',\n",
       " 'categories',\n",
       " 'lancet_gbd',\n",
       " 'lancet_condition_tier',\n",
       " 'ghana_condition_tier',\n",
       " 'india_condition_tier',\n",
       " 'nigeria_condition_tier',\n",
       " 'kenya_condition_tier',\n",
       " 'who_edl_indications',\n",
       " 'test_name_short',\n",
       " 'test_name_pretty',\n",
       " 'clinical_service',\n",
       " 'who_eml_v19',\n",
       " 'who_eml_v20',\n",
       " 'who_eml_v20_core',\n",
       " 'who_eml_v20_complementary',\n",
       " 'india_eml_2015_core',\n",
       " 'ghana_nhis_2018',\n",
       " 'ghana_eml_2010',\n",
       " 'ghana_eml_2017',\n",
       " 'ghana_eml_2017_level',\n",
       " 'ghana_eml_2017_reimbursed',\n",
       " 'notes',\n",
       " 'medicine_name',\n",
       " 'representative',\n",
       " 'preferred',\n",
       " 'view_order',\n",
       " 'ghana_eml_2017_todo',\n",
       " 'uid',\n",
       " 'enteredby',\n",
       " 'ghana_nhis_2018_level',\n",
       " 'kenya_eml_2016',\n",
       " 'kenya_eml_2016_level',\n",
       " 'kenya_eml_2016_todo',\n",
       " 'categories_combined',\n",
       " 'who_edl_v2',\n",
       " 'india_edl_v1_draft',\n",
       " 'test_format',\n",
       " 'specimen_type',\n",
       " 'laboratory',\n",
       " 'nigeria_eml_2016',\n",
       " 'nigeria_eml_2016_level',\n",
       " 'nigeria_eml_2016_todo',\n",
       " 'nigeria_eml_2016_enteredby',\n",
       " 'eml_cat_1',\n",
       " 'india_edl_v1_sup_draft',\n",
       " 'who_edl_v2_tier',\n",
       " 'india_edl_v1',\n",
       " 'india_edl_v1_tier',\n",
       " 'user_edl',\n",
       " 'nigeria_test_tier_capacity',\n",
       " 'ghana_nhis',\n",
       " 'ghana_nhis_reimbursement_usd',\n",
       " 'lancet_test_tier_capacity',\n",
       " 'who_edl_v2_condition',\n",
       " 'test_format_lancet_tier',\n",
       " 'test_format_lancet_include',\n",
       " 'lancet_indication_exclude',\n",
       " 'condition_name_lancet',\n",
       " 'clinical_chemistry',\n",
       " 'higherpriority',\n",
       " 'indonesia_eml_phc',\n",
       " 'indonesia_phc_conditions',\n",
       " 'indonesia_phc_exclude']"
      ]
     },
     "execution_count": 32,
     "metadata": {},
     "output_type": "execute_result"
    }
   ],
   "source": [
    "col_to_unique_map = dict()\n",
    "for col in res_df.columns:\n",
    "    col_to_unique_map[col] = get_unique_values(list(res_df[col]))\n",
    "list(col_to_unique_map.keys())"
   ]
  },
  {
   "cell_type": "code",
   "execution_count": 22,
   "id": "a6c62a56-0eaf-4e03-8f67-d9168961497a",
   "metadata": {},
   "outputs": [
    {
     "data": {
      "text/plain": [
       "[258.0,\n",
       " 260.0,\n",
       " nan,\n",
       " 18.0,\n",
       " 536.0,\n",
       " nan,\n",
       " nan,\n",
       " nan,\n",
       " nan,\n",
       " nan,\n",
       " nan,\n",
       " 299.0,\n",
       " nan,\n",
       " nan,\n",
       " 306.0,\n",
       " 307.0,\n",
       " nan,\n",
       " nan,\n",
       " nan,\n",
       " nan,\n",
       " nan,\n",
       " nan,\n",
       " nan,\n",
       " nan,\n",
       " nan,\n",
       " nan,\n",
       " nan,\n",
       " 'AAA']"
      ]
     },
     "execution_count": 22,
     "metadata": {},
     "output_type": "execute_result"
    }
   ],
   "source": [
    "temp_lst = col_to_unique_map['view_order']\n",
    "temp_lst.append('AAA')\n",
    "temp_lst"
   ]
  },
  {
   "cell_type": "code",
   "execution_count": 26,
   "id": "d0414e00-ad48-426b-896c-59ac63fc1618",
   "metadata": {},
   "outputs": [],
   "source": [
    "def get_unique_values(input_list: List[Any]) -> List[Any]:\n",
    "    \"\"\"\n",
    "    This function takes a list containing various types including float('nan') and returns a new list\n",
    "    with unique values and compresses all 'nan' values into a single occurrence.\n",
    "    \"\"\"\n",
    "    def is_nan(value):\n",
    "        return isinstance(value, float) and math.isnan(value)\n",
    "\n",
    "    nans = list(filter(is_nan, input_list))\n",
    "    non_nans = list(filter(lambda x: not is_nan(x), input_list))\n",
    "    unique_non_nans = list(set(non_nans))\n",
    "    if nans:\n",
    "        unique_non_nans.append(float('nan'))\n",
    "    return unique_non_nans"
   ]
  },
  {
   "cell_type": "code",
   "execution_count": 27,
   "id": "039523f5-f978-4205-b84b-a6300cbb0d9f",
   "metadata": {},
   "outputs": [
    {
     "data": {
      "text/plain": [
       "['AAA', 258.0, 260.0, 299.0, 18.0, 306.0, 307.0, 536.0, nan]"
      ]
     },
     "execution_count": 27,
     "metadata": {},
     "output_type": "execute_result"
    }
   ],
   "source": [
    "get_unique_values(temp_lst)"
   ]
  },
  {
   "cell_type": "code",
   "execution_count": null,
   "id": "b1fae614-b848-40da-97f5-6305f3393819",
   "metadata": {},
   "outputs": [],
   "source": []
  },
  {
   "cell_type": "code",
   "execution_count": null,
   "id": "9698e88b-7ad6-4624-a9e6-bad926a8c6d4",
   "metadata": {},
   "outputs": [],
   "source": [
    "db = Session(bind=engine)\n",
    "table = t_tableau3_t2_tjfs_join_edl_dashadmin"
   ]
  },
  {
   "cell_type": "code",
   "execution_count": null,
   "id": "58461dcd-a728-4ad4-84d6-61b5c9fdfe63",
   "metadata": {},
   "outputs": [],
   "source": [
    "def fetch_filtered_data(db:Session, table:Table,  filters:dict):\n",
    "    query = db.query(table)\n",
    "    \n",
    "    # Apply filters dynamically\n",
    "    for column, values in filters.items():\n",
    "        if values:  # Apply filter only if the list is not empty\n",
    "            query = query.filter(getattr(table, column).in_(values))\n",
    "    \n",
    "    results = query.all()\n",
    "    return convert_query_to_df(results)"
   ]
  },
  {
   "cell_type": "code",
   "execution_count": null,
   "id": "5f7cb2fa-62b3-47ae-b391-9319f9d21d9f",
   "metadata": {},
   "outputs": [],
   "source": [
    "str(query.statement)"
   ]
  },
  {
   "cell_type": "code",
   "execution_count": null,
   "id": "99c4acb6-a960-4602-a65d-dbd33af51eac",
   "metadata": {},
   "outputs": [],
   "source": [
    "db = Session(bind=engine)\n",
    "table = t_tableau3_t2_tjfs_join_edl_dashadmin\n",
    "query = db.query(table)\n",
    "\n",
    "for column, values in temp_filter.items():\n",
    "    if values:\n",
    "        query = query.filter(table.c[column].in_(values))\n",
    "\n"
   ]
  },
  {
   "cell_type": "code",
   "execution_count": null,
   "id": "43c7bbd9-361e-475e-bb88-f7c92cc3774d",
   "metadata": {},
   "outputs": [],
   "source": [
    "convert_query_to_df(query)"
   ]
  },
  {
   "cell_type": "code",
   "execution_count": null,
   "id": "b48d844a-07b8-42d8-a4e6-e19e2caa3893",
   "metadata": {},
   "outputs": [],
   "source": []
  },
  {
   "cell_type": "code",
   "execution_count": null,
   "id": "db69a7b4-69e2-4904-9763-05a031450ab4",
   "metadata": {},
   "outputs": [],
   "source": []
  },
  {
   "cell_type": "code",
   "execution_count": null,
   "id": "37185aea-f120-43d5-a656-136741cb2df0",
   "metadata": {},
   "outputs": [],
   "source": []
  },
  {
   "cell_type": "code",
   "execution_count": null,
   "id": "c6cf0614-d1f0-4ee7-b37f-c86d19c099a3",
   "metadata": {},
   "outputs": [],
   "source": []
  },
  {
   "cell_type": "code",
   "execution_count": null,
   "id": "3d99132f-7d14-44d4-9aec-471624288317",
   "metadata": {},
   "outputs": [],
   "source": [
    "high_level_filter_map = [\n",
    "    {\n",
    "        'Laboratory': 'laboratory',\n",
    "        'Test Format': 'test_format',\n",
    "        'Test Reason': 'testreason',\n",
    "        'Category': 'category'\n",
    "    },\n",
    "    {\n",
    "        'Medicine': 'medicine'\n",
    "    },\n",
    "    {\n",
    "        'High Burden Disease': 'higherpriority',\n",
    "        'Clinical Service': 'clinical_service',\n",
    "        'Condition Name':'conditionname'\n",
    "    },\n",
    "    {\n",
    "        'WHO EDL v2':'who_edl_v2',\n",
    "        'WHO EDL v2 Tier': 'who_edl_v2_tier',\n",
    "        'WHO EML v20': 'who_eml_v20',\n",
    "        'EML Category': 'eml_cat_1'\n",
    "    }\n",
    "]\n"
   ]
  },
  {
   "cell_type": "code",
   "execution_count": null,
   "id": "51ae51f7-29a4-4ea0-ab10-edacf9a491ef",
   "metadata": {},
   "outputs": [],
   "source": [
    "[{v:k for k,v in x.items()} for x in high_level_filter_map]"
   ]
  },
  {
   "cell_type": "code",
   "execution_count": null,
   "id": "f538afaa-f7e5-4cb0-9005-67b25a211201",
   "metadata": {},
   "outputs": [],
   "source": []
  },
  {
   "cell_type": "code",
   "execution_count": null,
   "id": "06353983-0ccb-40e9-adec-4b8d6ffadbac",
   "metadata": {},
   "outputs": [],
   "source": []
  },
  {
   "cell_type": "code",
   "execution_count": null,
   "id": "663bad87-f449-4bf8-b059-47dbf0f04c4c",
   "metadata": {},
   "outputs": [],
   "source": []
  },
  {
   "cell_type": "code",
   "execution_count": null,
   "id": "7464ca70-943f-4cd8-bb88-bcee56567062",
   "metadata": {},
   "outputs": [],
   "source": []
  },
  {
   "cell_type": "code",
   "execution_count": null,
   "id": "d0726f98-abc7-44c7-a9f7-402a3a4fdfb0",
   "metadata": {},
   "outputs": [],
   "source": []
  },
  {
   "cell_type": "code",
   "execution_count": null,
   "id": "bf8c1209-0cc9-4255-9060-d33c32007582",
   "metadata": {},
   "outputs": [],
   "source": []
  },
  {
   "cell_type": "code",
   "execution_count": null,
   "id": "ac80d436-3d31-41f0-acf5-8ff7ee782049",
   "metadata": {},
   "outputs": [],
   "source": []
  },
  {
   "cell_type": "code",
   "execution_count": null,
   "id": "8f2013f8-414c-451f-9ca0-02669fb981f8",
   "metadata": {},
   "outputs": [],
   "source": []
  },
  {
   "cell_type": "code",
   "execution_count": null,
   "id": "c64dd625-201a-461f-9875-af2971ebe21d",
   "metadata": {},
   "outputs": [],
   "source": []
  },
  {
   "cell_type": "code",
   "execution_count": null,
   "id": "e451e4f3-1e60-4d13-af9d-b92a296733ff",
   "metadata": {},
   "outputs": [],
   "source": []
  },
  {
   "cell_type": "code",
   "execution_count": null,
   "id": "7d7cc8d4-a0b8-40ae-8868-e520145c1b2a",
   "metadata": {},
   "outputs": [],
   "source": []
  },
  {
   "cell_type": "code",
   "execution_count": null,
   "id": "0af0bdc9-68bc-47c3-af4e-79c84732066f",
   "metadata": {},
   "outputs": [],
   "source": []
  },
  {
   "cell_type": "code",
   "execution_count": null,
   "id": "c80f0bae-0255-4b3d-8cac-44e01b6379d9",
   "metadata": {},
   "outputs": [],
   "source": []
  },
  {
   "cell_type": "code",
   "execution_count": null,
   "id": "67bac34c-a03c-4eb5-b1f2-2efec5183d52",
   "metadata": {},
   "outputs": [],
   "source": []
  },
  {
   "cell_type": "code",
   "execution_count": null,
   "id": "fb2b26e0-56c6-4964-820a-393008df90ae",
   "metadata": {},
   "outputs": [],
   "source": []
  },
  {
   "cell_type": "code",
   "execution_count": null,
   "id": "8ab5cf7e-aa83-4bcd-b421-82fac58d9e86",
   "metadata": {},
   "outputs": [],
   "source": []
  },
  {
   "cell_type": "code",
   "execution_count": null,
   "id": "31dc27e4-ef3a-4551-a6ea-063f640fad12",
   "metadata": {},
   "outputs": [],
   "source": []
  },
  {
   "cell_type": "code",
   "execution_count": null,
   "id": "4114facc-11a9-4f6e-9a40-4b3e307ff23c",
   "metadata": {},
   "outputs": [],
   "source": []
  },
  {
   "cell_type": "code",
   "execution_count": null,
   "id": "0473c062-82ca-4500-a396-9c7b4a195e19",
   "metadata": {},
   "outputs": [],
   "source": []
  },
  {
   "cell_type": "code",
   "execution_count": null,
   "id": "8c0a3991-4523-4139-905a-7461e69e1569",
   "metadata": {},
   "outputs": [],
   "source": []
  },
  {
   "cell_type": "code",
   "execution_count": null,
   "id": "4c8041f2-803b-4513-bc73-151d63cb6c4e",
   "metadata": {},
   "outputs": [],
   "source": []
  },
  {
   "cell_type": "code",
   "execution_count": null,
   "id": "596e7489-dad2-42eb-a47b-abcbeea2dd0f",
   "metadata": {},
   "outputs": [],
   "source": []
  },
  {
   "cell_type": "code",
   "execution_count": null,
   "id": "500bcfd4-edc1-4784-a854-68446ac25d2a",
   "metadata": {},
   "outputs": [],
   "source": []
  },
  {
   "cell_type": "code",
   "execution_count": null,
   "id": "abcb65a0-6046-4f53-b3af-222902ffaa05",
   "metadata": {},
   "outputs": [],
   "source": []
  },
  {
   "cell_type": "code",
   "execution_count": null,
   "id": "8642e69f-9627-4fe8-815b-49dcaae26c87",
   "metadata": {},
   "outputs": [],
   "source": []
  },
  {
   "cell_type": "code",
   "execution_count": null,
   "id": "d507784c-e611-4920-b767-69ca029aaf52",
   "metadata": {},
   "outputs": [],
   "source": []
  },
  {
   "cell_type": "code",
   "execution_count": null,
   "id": "f542b789-c3b1-4a8b-8f0a-172dde5e20d3",
   "metadata": {},
   "outputs": [],
   "source": []
  },
  {
   "cell_type": "code",
   "execution_count": null,
   "id": "84e5670f-1d10-463d-bb70-c0b8c487f2a8",
   "metadata": {},
   "outputs": [],
   "source": [
    "from sqlalchemy.orm.query import Query\n",
    "from sqlalchemy.sql.schema import Table\n",
    "from sqlalchemy.orm import Session\n",
    "\n",
    "from data.database import engine\n",
    "from data.models import t_tableau3_t2_tjfs_join_edl_dashadmin\n",
    "\n",
    "from utils.filter import high_level_filter_map\n",
    "from typing import Dict, List\n",
    "\n",
    "import streamlit as st\n",
    "import pandas as pd\n",
    "\n",
    "table = t_tableau3_t2_tjfs_join_edl_dashadmin\n",
    "\n",
    "def convert_query_to_df(query:Query, \n",
    "                        limit:int=None) -> pd.DataFrame:\n",
    "    \"\"\"\n",
    "    Converts a SQLAlchemy query result into a pandas DataFrame.\n",
    "    \"\"\"\n",
    "    column_names = query.statement.columns.keys()\n",
    "    query_result = query.limit(limit).all() if limit else query.all()\n",
    "    \n",
    "    return pd.DataFrame(columns=column_names, data=query_result)\n",
    "\n",
    "\n",
    "def extract_unique_values(df: pd.DataFrame, \n",
    "                          filter_map: Dict[str, Dict[str, str]], \n",
    "                          filter_key: str) -> Dict[str, List]:\n",
    "    \"\"\"\n",
    "    Creates a dictionary of unique values for each sub-filter associated with a given main filter.\n",
    "    \"\"\"\n",
    "    unique_values = {}\n",
    "    \n",
    "    for sub_filter, column in filter_map[filter_key].items():\n",
    "        unique_values[sub_filter] = sorted(list(df[column].unique()),  key=lambda x: (x is None, x))\n",
    "        \n",
    "    return unique_values\n",
    "\n",
    "\n",
    "def create_filter_map(df:pd.DataFrame, \n",
    "                  filter_map:dict) -> Dict[str, Dict[str, List]]:\n",
    "    \"\"\"\n",
    "    Creates a comprehensive dictionary of unique values for each sub-filter associated with all main filters.\n",
    "    \"\"\"\n",
    "    complete_filter = {}\n",
    "    \n",
    "    for main_filter in filter_map.keys():\n",
    "        complete_filter[main_filter] = extract_unique_values(df, filter_map, main_filter)\n",
    "\n",
    "    return complete_filter\n",
    "\n",
    "\n",
    "@st.cache_resource(ttl=3600)\n",
    "def get_filter()-> Dict:\n",
    "    \"\"\"\n",
    "    Retrieves a comprehensive filter dictionary from the database query results.\n",
    "    \"\"\"\n",
    "    global table\n",
    "    db = Session(bind=engine)\n",
    "    query = db.query(table)\n",
    "    df = convert_query_to_df(query, None)\n",
    "    filter = create_filter_map(df, high_level_filter_map)\n",
    "    del df\n",
    "    db.close()\n",
    "    return filter\n",
    "\n",
    "\n",
    "@st.cache_data(ttl=3600)\n",
    "def convert_selection_to_filter(selection: Dict[str,Dict[str,List[str]]]) -> Dict[str,List[str]]:\n",
    "    \"\"\"\n",
    "    Convert a nested dictionary of user selections into a filter dictionary for database querying.\n",
    "    \"\"\"\n",
    "    global high_level_filter_map\n",
    "    title_to_col = {k: v for d in [v for v in high_level_filter_map.values()] for k, v in d.items()}\n",
    "    selection_to_filter = dict()\n",
    "    \n",
    "    for ll_filter in selection.values():\n",
    "        for k, v in ll_filter.items():\n",
    "            if v:\n",
    "                selection_to_filter[title_to_col[k]] = v\n",
    "            \n",
    "    return selection_to_filter\n",
    "\n",
    "\n",
    "@st.cache_resource(ttl=3600)\n",
    "def convert_filter_to_query(filters:dict) -> Query:\n",
    "    \"\"\"\n",
    "    Fetch filtered data from a specified database table based on provided filter conditions.\n",
    "    \"\"\"\n",
    "    global table\n",
    "    db = Session(bind=engine)\n",
    "    query = db.query(table)\n",
    "    \n",
    "    for column, values in filters.items():\n",
    "        if values:\n",
    "            query = query.filter(table.c[column].in_(values))\n",
    "    \n",
    "    return query"
   ]
  },
  {
   "cell_type": "code",
   "execution_count": null,
   "id": "b846ff3a-2d75-403c-8c50-d1acb8b3ae7b",
   "metadata": {},
   "outputs": [],
   "source": []
  },
  {
   "cell_type": "code",
   "execution_count": null,
   "id": "ac3f9641-26c3-4318-9bd7-a596c082d621",
   "metadata": {},
   "outputs": [],
   "source": []
  },
  {
   "cell_type": "code",
   "execution_count": null,
   "id": "273a3c7a-f5d3-4848-87a4-18fdf824af22",
   "metadata": {},
   "outputs": [],
   "source": []
  },
  {
   "cell_type": "code",
   "execution_count": null,
   "id": "c92f89cd-72a1-401b-8b97-e560b7dc8d64",
   "metadata": {},
   "outputs": [],
   "source": []
  },
  {
   "cell_type": "code",
   "execution_count": null,
   "id": "781b1d14-8c91-4824-a3f6-bbcfc1614f05",
   "metadata": {},
   "outputs": [],
   "source": []
  },
  {
   "cell_type": "code",
   "execution_count": null,
   "id": "91f08b3a-b0a2-4d26-ad83-207dd29de8d7",
   "metadata": {},
   "outputs": [],
   "source": []
  },
  {
   "cell_type": "code",
   "execution_count": null,
   "id": "c1aaee1d-c779-4831-9644-6cdf500079b0",
   "metadata": {},
   "outputs": [],
   "source": []
  },
  {
   "cell_type": "code",
   "execution_count": null,
   "id": "e669c990-699b-400f-90db-85c37b0c07a0",
   "metadata": {},
   "outputs": [],
   "source": []
  },
  {
   "cell_type": "code",
   "execution_count": null,
   "id": "0623f84c-8a91-4b69-b088-76f5017ae329",
   "metadata": {},
   "outputs": [],
   "source": []
  },
  {
   "cell_type": "code",
   "execution_count": null,
   "id": "4bf3c158-1c08-4fc6-b05e-5c64782c4d77",
   "metadata": {},
   "outputs": [],
   "source": []
  },
  {
   "cell_type": "code",
   "execution_count": null,
   "id": "82bd3215-98a6-49ba-a975-985c34f2a7f0",
   "metadata": {},
   "outputs": [],
   "source": []
  },
  {
   "cell_type": "code",
   "execution_count": null,
   "id": "c490576b-2bd8-4005-bfd4-16c414a93008",
   "metadata": {},
   "outputs": [],
   "source": []
  },
  {
   "cell_type": "code",
   "execution_count": null,
   "id": "cdf4a5d1-53b8-434b-870e-0ca7fcefe1f1",
   "metadata": {},
   "outputs": [],
   "source": []
  },
  {
   "cell_type": "code",
   "execution_count": null,
   "id": "bff7a7d4-ef8a-4a0e-bd42-1174f63acf26",
   "metadata": {},
   "outputs": [],
   "source": []
  }
 ],
 "metadata": {
  "kernelspec": {
   "display_name": "Python 3 (ipykernel)",
   "language": "python",
   "name": "python3"
  },
  "language_info": {
   "codemirror_mode": {
    "name": "ipython",
    "version": 3
   },
   "file_extension": ".py",
   "mimetype": "text/x-python",
   "name": "python",
   "nbconvert_exporter": "python",
   "pygments_lexer": "ipython3",
   "version": "3.10.0"
  }
 },
 "nbformat": 4,
 "nbformat_minor": 5
}
