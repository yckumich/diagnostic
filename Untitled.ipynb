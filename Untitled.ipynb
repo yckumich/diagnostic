{
 "cells": [
  {
   "cell_type": "code",
   "execution_count": 1,
   "id": "03bd6a0a-1d79-49f6-a6d7-3553153d957d",
   "metadata": {},
   "outputs": [],
   "source": [
    "from sqlalchemy.sql.schema import Table\n",
    "from sqlalchemy.orm.query import Query\n",
    "from sqlalchemy.orm import Session\n",
    "from data.database import engine, Base, get_db\n",
    "import pandas as pd\n",
    "from data.models import t_tableau3_t2_tjfs_join_edl_dashadmin  # Import all models generated in models.py\n",
    "import sys\n",
    "from typing import List\n",
    "from utils.filter import high_level_filter_map\n",
    "\n",
    "# Create the database tables (if they don't already exist)\n",
    "Base.metadata.create_all(bind=engine)"
   ]
  },
  {
   "cell_type": "code",
   "execution_count": 2,
   "id": "2f5909cf-7b40-421c-ad41-1f8fcbc7c402",
   "metadata": {},
   "outputs": [],
   "source": [
    "# def test_connection(table_instance: Table):\n",
    "#     # Create a new session\n",
    "#     db = Session(bind=engine)\n",
    "#     try:\n",
    "#         # Query the first 10 records from a table and convert to dictionaries\n",
    "#         results = db.query(table_instance).limit(10).all()  # Replace with your actual table name\n",
    "#         results_dict = query_to_dict(results)\n",
    "#         for result in results_dict:\n",
    "#             print(result)\n",
    "#     finally:\n",
    "#         db.close()\n"
   ]
  },
  {
   "cell_type": "code",
   "execution_count": 3,
   "id": "1229ccb9-8f80-4dfc-918f-9d10f5dae385",
   "metadata": {},
   "outputs": [],
   "source": [
    "\"\"\"\n",
    "This dictionary maps high-level filters to their corresponding low-level filters. \n",
    "The format of the dictionary is:\n",
    "High-level filter: {Lower-level filter title: Lower-level filter column name}.\n",
    "\"\"\"\n",
    "\n",
    "high_level_filter_map = {\n",
    "    \n",
    "    'Diagnostic': {\n",
    "        'Laboratory': 'laboratory',\n",
    "        'Test Format': 'test_format',\n",
    "        'Test Reason': 'testreason',\n",
    "        'Category': 'category'\n",
    "    },\n",
    "    'Medicine': {\n",
    "        'Medicine': 'medicine'\n",
    "    },\n",
    "    'Condition': {\n",
    "        'High Burden Disease': 'higherpriority',\n",
    "        'Clinical Service': 'clinical_service',\n",
    "        'Condition Name':'conditionname'\n",
    "    },\n",
    "    'WHO EDL/EML': {\n",
    "        'WHO EDL v2':'who_edl_v2',\n",
    "        'WHO EDL v2 Tier': 'who_edl_v2_tier',\n",
    "        'WHO EML v20': 'who_eml_v20',\n",
    "        'EML Category': 'eml_cat_1'\n",
    "    }\n",
    "    \n",
    "}\n"
   ]
  },
  {
   "cell_type": "code",
   "execution_count": 6,
   "id": "9fb4fcfd-1173-4294-ac21-dc71da12dc74",
   "metadata": {},
   "outputs": [],
   "source": [
    "import pandas as pd\n",
    "from typing import Dict, List\n",
    "\n",
    "def convert_query_to_df(query:Query, \n",
    "                        limit:int=None) -> pd.DataFrame:\n",
    "    \"\"\"\n",
    "    Converts a SQLAlchemy query result into a pandas DataFrame.\n",
    "    \"\"\"\n",
    "    column_names = query.statement.columns.keys()\n",
    "    query_result = query.limit(limit).all() if limit else query.all()\n",
    "    \n",
    "    return pd.DataFrame(columns=column_names, data=query_result)\n",
    "\n",
    "def extract_unique_values(df: pd.DataFrame, \n",
    "                          filter_map: Dict[str, Dict[str, str]], \n",
    "                          filter_key: str) -> Dict[str, List]:\n",
    "    \"\"\"\n",
    "    Creates a dictionary of unique values for each sub-filter associated with a given main filter.\n",
    "    \"\"\"\n",
    "    unique_values = {}\n",
    "    \n",
    "    for sub_filter, column in filter_map[filter_key].items():\n",
    "        unique_values[sub_filter] = list(df[column].unique())\n",
    "        \n",
    "    return unique_values\n",
    "\n",
    "def create_filter(df:pd.DataFrame, \n",
    "                  filter_map:dict) -> Dict[str, Dict[str, List]]:\n",
    "    \"\"\"\n",
    "    Creates a comprehensive dictionary of unique values for each sub-filter associated with all main filters.\n",
    "    \"\"\"\n",
    "    complete_filter = {}\n",
    "    \n",
    "    for main_filter in filter_map.keys():\n",
    "        complete_filter[main_filter] = extract_unique_values(df, filter_map, main_filter)\n",
    "\n",
    "    return complete_filter\n",
    "\n",
    "\n",
    "def get_filter():\n",
    "    db = Session(bind=engine)\n",
    "    query = db.query(t_tableau3_t2_tjfs_join_edl_dashadmin)\n",
    "    df = convert_query_to_df(query, None)\n",
    "    filter_res = create_filter(df, high_level_filter_map)\n",
    "    del df\n",
    "    db.close()\n",
    "    return filter_res"
   ]
  },
  {
   "cell_type": "code",
   "execution_count": 10,
   "id": "5b1dd9e1-9fe9-43ae-87ac-7d246aaf309b",
   "metadata": {},
   "outputs": [],
   "source": [
    "subfilter_map = {'Laboratory': ['Chemistry', 'Coagulation', 'Molecular (non-Microbiology)', 'Radiology', 'Microbiology', 'Toxicology', 'Immunology', 'Hematology', 'Blood bank', 'Provider-performed', 'Flow cytometry', 'HLA', 'Histopathology', 'Not applicable'], 'Test Format': ['Automated immunoassay analyzer, specialized', 'Automated immunoassay analyzer', None, 'Advanced breast imaging', 'RDT', 'Antimicrobial susceptibility testing', 'Particle agglutination assay', 'Manual microbial identification', 'Automated chemistry analyzer', 'Indirect immunofluorescence', 'Automated coagulation analyzer', 'Automated coagulation analyzer, specialized', 'Benchtop/handheld analyzer', 'Automated biochemical microbial identification', 'No instrument', 'Automated hematology analyzer', 'Hemocytometer', 'CT scan', 'Red blood cell agglutination', 'Latex agglutination', 'Echocardiogram', 'Microscopy, with immunohistochemistry', 'Microscopy, with stains', 'Flow cytometry', 'Fluoroscopy', 'Semi-quantitative fluorescent spot test', 'Glucometer', 'Automated nucleic acid analyzer', 'High performance liquid chromatography', 'Hemoglobinometer', 'Electrophoresis', 'Radial immunodiffusion', 'Interventional radiology, basic', 'Interventional radiology, complex', 'Karyotyping', 'Urine Dipstick', 'MRI', 'Mammography', 'Automated chemistry analyzer, specialized', 'Nuclear radiology', 'Osmometer', 'PET scan', 'Tube agglutination test', 'Slide agglutination', 'Hemoglobin solubility', 'Sodium metabisulfite slide test', 'Antimicrobial susceptibility testing, TB', 'ELISPOT assay', 'Mass Spectrometry', 'Intradermal', 'Ultrasound', 'Ultrasound, POC', 'Endoscopy and urease', 'Urinalysis, microscopic', 'X-ray', 'Culture', 'TB Culture', 'Nucleic acid sequencing', 'Hematology smear microscopy', 'Fluorescence microscopy', 'Malaria smear microscopy', 'Stool microscopy', 'ELISA', 'Widal', 'Spectrophotometry', 'Gas chromatography'], 'Test Reason': ['DiffDiagnosis', 'Pathophysiology', 'Diagnosis', 'Monitoring', 'Complication', 'Dosing/Safety', 'Toxicity', 'CoMorbidity', 'Companion', 'DST', 'not applicable'], 'Category': ['Condition Specific', 'Medicine Specific']}"
   ]
  },
  {
   "cell_type": "code",
   "execution_count": 15,
   "id": "0d8b9d64-bdf9-42de-bf5e-de0edac32887",
   "metadata": {},
   "outputs": [],
   "source": [
    "selected_option_map = {k:[] for k in subfilter_map.keys()}"
   ]
  },
  {
   "cell_type": "code",
   "execution_count": 16,
   "id": "2f693a6f-4c3e-4ebb-a704-e665196fe97e",
   "metadata": {},
   "outputs": [
    {
     "data": {
      "text/plain": [
       "{'Laboratory': [], 'Test Format': [], 'Test Reason': [], 'Category': []}"
      ]
     },
     "execution_count": 16,
     "metadata": {},
     "output_type": "execute_result"
    }
   ],
   "source": [
    "selected_option_map"
   ]
  },
  {
   "cell_type": "code",
   "execution_count": null,
   "id": "a5eb74e1-86d5-4d2e-b127-4852d934a408",
   "metadata": {},
   "outputs": [],
   "source": [
    "filter_map = create_filter(df, high_level_filter_map)"
   ]
  },
  {
   "cell_type": "code",
   "execution_count": null,
   "id": "57167d18-f3d2-4503-93ee-a34d3a25d9c6",
   "metadata": {
    "scrolled": true
   },
   "outputs": [],
   "source": [
    "filter_map['Diagnostic']"
   ]
  },
  {
   "cell_type": "code",
   "execution_count": null,
   "id": "ce2d0148-aa50-4e62-9ab3-7f019d908b1a",
   "metadata": {},
   "outputs": [],
   "source": [
    "lower_level_filter_map"
   ]
  },
  {
   "cell_type": "code",
   "execution_count": null,
   "id": "cbb2ac22-0f9c-4e05-a645-e3d300e23c74",
   "metadata": {},
   "outputs": [],
   "source": [
    "res_df = query_to_df(query, None)\n",
    "colum_uniq_dict = get_unique_items(res_df, ['laboratory','test_format','testreason','category'])"
   ]
  },
  {
   "cell_type": "code",
   "execution_count": null,
   "id": "ff2c4fa0-bdbd-4377-913d-dc30c091733b",
   "metadata": {},
   "outputs": [],
   "source": [
    "colum_uniq_dict.keys()"
   ]
  },
  {
   "cell_type": "code",
   "execution_count": null,
   "id": "a9b71d64-6a3b-458d-a8ba-be546cf7512d",
   "metadata": {},
   "outputs": [],
   "source": [
    "len(colum_uniq_dict['category'])"
   ]
  },
  {
   "cell_type": "code",
   "execution_count": null,
   "id": "3c09e52f-21e7-40b9-aa86-a40ff19840a4",
   "metadata": {},
   "outputs": [],
   "source": [
    "len(res_df['eml_cat_1'].unique())"
   ]
  },
  {
   "cell_type": "code",
   "execution_count": null,
   "id": "9aef0ed3-b0da-4920-aa2c-eed308771911",
   "metadata": {},
   "outputs": [],
   "source": [
    "res_df.columns"
   ]
  },
  {
   "cell_type": "code",
   "execution_count": null,
   "id": "46dc65f0-263f-4dcd-8af5-937a15c8c012",
   "metadata": {},
   "outputs": [],
   "source": [
    "res_df['categories'].unique()"
   ]
  },
  {
   "cell_type": "code",
   "execution_count": null,
   "id": "3f5e1dae-6103-49dd-bc0e-d8be4ee69746",
   "metadata": {},
   "outputs": [],
   "source": []
  },
  {
   "cell_type": "code",
   "execution_count": null,
   "id": "627011b1-2082-4ba7-bc5e-a953d60cf9cc",
   "metadata": {},
   "outputs": [],
   "source": []
  },
  {
   "cell_type": "code",
   "execution_count": null,
   "id": "023da57a-f936-480e-8644-7543641f2dd2",
   "metadata": {},
   "outputs": [],
   "source": []
  },
  {
   "cell_type": "code",
   "execution_count": null,
   "id": "9698e88b-7ad6-4624-a9e6-bad926a8c6d4",
   "metadata": {},
   "outputs": [],
   "source": []
  },
  {
   "cell_type": "code",
   "execution_count": null,
   "id": "3d99132f-7d14-44d4-9aec-471624288317",
   "metadata": {},
   "outputs": [],
   "source": []
  },
  {
   "cell_type": "code",
   "execution_count": null,
   "id": "51ae51f7-29a4-4ea0-ab10-edacf9a491ef",
   "metadata": {},
   "outputs": [],
   "source": []
  },
  {
   "cell_type": "code",
   "execution_count": null,
   "id": "f538afaa-f7e5-4cb0-9005-67b25a211201",
   "metadata": {},
   "outputs": [],
   "source": []
  },
  {
   "cell_type": "code",
   "execution_count": null,
   "id": "06353983-0ccb-40e9-adec-4b8d6ffadbac",
   "metadata": {},
   "outputs": [],
   "source": []
  },
  {
   "cell_type": "code",
   "execution_count": null,
   "id": "663bad87-f449-4bf8-b059-47dbf0f04c4c",
   "metadata": {},
   "outputs": [],
   "source": []
  },
  {
   "cell_type": "code",
   "execution_count": null,
   "id": "7464ca70-943f-4cd8-bb88-bcee56567062",
   "metadata": {},
   "outputs": [],
   "source": []
  },
  {
   "cell_type": "code",
   "execution_count": null,
   "id": "d0726f98-abc7-44c7-a9f7-402a3a4fdfb0",
   "metadata": {},
   "outputs": [],
   "source": []
  },
  {
   "cell_type": "code",
   "execution_count": null,
   "id": "bf8c1209-0cc9-4255-9060-d33c32007582",
   "metadata": {},
   "outputs": [],
   "source": []
  },
  {
   "cell_type": "code",
   "execution_count": null,
   "id": "ac80d436-3d31-41f0-acf5-8ff7ee782049",
   "metadata": {},
   "outputs": [],
   "source": []
  },
  {
   "cell_type": "code",
   "execution_count": null,
   "id": "8f2013f8-414c-451f-9ca0-02669fb981f8",
   "metadata": {},
   "outputs": [],
   "source": []
  },
  {
   "cell_type": "code",
   "execution_count": null,
   "id": "c64dd625-201a-461f-9875-af2971ebe21d",
   "metadata": {},
   "outputs": [],
   "source": []
  },
  {
   "cell_type": "code",
   "execution_count": null,
   "id": "e451e4f3-1e60-4d13-af9d-b92a296733ff",
   "metadata": {},
   "outputs": [],
   "source": []
  },
  {
   "cell_type": "code",
   "execution_count": null,
   "id": "7d7cc8d4-a0b8-40ae-8868-e520145c1b2a",
   "metadata": {},
   "outputs": [],
   "source": []
  },
  {
   "cell_type": "code",
   "execution_count": null,
   "id": "0af0bdc9-68bc-47c3-af4e-79c84732066f",
   "metadata": {},
   "outputs": [],
   "source": []
  },
  {
   "cell_type": "code",
   "execution_count": null,
   "id": "c80f0bae-0255-4b3d-8cac-44e01b6379d9",
   "metadata": {},
   "outputs": [],
   "source": []
  },
  {
   "cell_type": "code",
   "execution_count": null,
   "id": "67bac34c-a03c-4eb5-b1f2-2efec5183d52",
   "metadata": {},
   "outputs": [],
   "source": []
  },
  {
   "cell_type": "code",
   "execution_count": null,
   "id": "fb2b26e0-56c6-4964-820a-393008df90ae",
   "metadata": {},
   "outputs": [],
   "source": []
  },
  {
   "cell_type": "code",
   "execution_count": null,
   "id": "8ab5cf7e-aa83-4bcd-b421-82fac58d9e86",
   "metadata": {},
   "outputs": [],
   "source": []
  },
  {
   "cell_type": "code",
   "execution_count": null,
   "id": "31dc27e4-ef3a-4551-a6ea-063f640fad12",
   "metadata": {},
   "outputs": [],
   "source": []
  },
  {
   "cell_type": "code",
   "execution_count": null,
   "id": "4114facc-11a9-4f6e-9a40-4b3e307ff23c",
   "metadata": {},
   "outputs": [],
   "source": []
  },
  {
   "cell_type": "code",
   "execution_count": null,
   "id": "0473c062-82ca-4500-a396-9c7b4a195e19",
   "metadata": {},
   "outputs": [],
   "source": []
  },
  {
   "cell_type": "code",
   "execution_count": null,
   "id": "8c0a3991-4523-4139-905a-7461e69e1569",
   "metadata": {},
   "outputs": [],
   "source": []
  },
  {
   "cell_type": "code",
   "execution_count": null,
   "id": "4c8041f2-803b-4513-bc73-151d63cb6c4e",
   "metadata": {},
   "outputs": [],
   "source": []
  },
  {
   "cell_type": "code",
   "execution_count": null,
   "id": "596e7489-dad2-42eb-a47b-abcbeea2dd0f",
   "metadata": {},
   "outputs": [],
   "source": []
  },
  {
   "cell_type": "code",
   "execution_count": null,
   "id": "500bcfd4-edc1-4784-a854-68446ac25d2a",
   "metadata": {},
   "outputs": [],
   "source": []
  },
  {
   "cell_type": "code",
   "execution_count": null,
   "id": "abcb65a0-6046-4f53-b3af-222902ffaa05",
   "metadata": {},
   "outputs": [],
   "source": []
  },
  {
   "cell_type": "code",
   "execution_count": null,
   "id": "8642e69f-9627-4fe8-815b-49dcaae26c87",
   "metadata": {},
   "outputs": [],
   "source": []
  },
  {
   "cell_type": "code",
   "execution_count": null,
   "id": "d507784c-e611-4920-b767-69ca029aaf52",
   "metadata": {},
   "outputs": [],
   "source": []
  },
  {
   "cell_type": "code",
   "execution_count": null,
   "id": "f542b789-c3b1-4a8b-8f0a-172dde5e20d3",
   "metadata": {},
   "outputs": [],
   "source": []
  },
  {
   "cell_type": "code",
   "execution_count": null,
   "id": "84e5670f-1d10-463d-bb70-c0b8c487f2a8",
   "metadata": {},
   "outputs": [],
   "source": []
  },
  {
   "cell_type": "code",
   "execution_count": null,
   "id": "b846ff3a-2d75-403c-8c50-d1acb8b3ae7b",
   "metadata": {},
   "outputs": [],
   "source": []
  },
  {
   "cell_type": "code",
   "execution_count": null,
   "id": "ac3f9641-26c3-4318-9bd7-a596c082d621",
   "metadata": {},
   "outputs": [],
   "source": []
  },
  {
   "cell_type": "code",
   "execution_count": null,
   "id": "273a3c7a-f5d3-4848-87a4-18fdf824af22",
   "metadata": {},
   "outputs": [],
   "source": []
  },
  {
   "cell_type": "code",
   "execution_count": null,
   "id": "c92f89cd-72a1-401b-8b97-e560b7dc8d64",
   "metadata": {},
   "outputs": [],
   "source": []
  },
  {
   "cell_type": "code",
   "execution_count": null,
   "id": "781b1d14-8c91-4824-a3f6-bbcfc1614f05",
   "metadata": {},
   "outputs": [],
   "source": []
  },
  {
   "cell_type": "code",
   "execution_count": null,
   "id": "91f08b3a-b0a2-4d26-ad83-207dd29de8d7",
   "metadata": {},
   "outputs": [],
   "source": []
  },
  {
   "cell_type": "code",
   "execution_count": null,
   "id": "c1aaee1d-c779-4831-9644-6cdf500079b0",
   "metadata": {},
   "outputs": [],
   "source": []
  },
  {
   "cell_type": "code",
   "execution_count": null,
   "id": "e669c990-699b-400f-90db-85c37b0c07a0",
   "metadata": {},
   "outputs": [],
   "source": []
  },
  {
   "cell_type": "code",
   "execution_count": null,
   "id": "0623f84c-8a91-4b69-b088-76f5017ae329",
   "metadata": {},
   "outputs": [],
   "source": []
  },
  {
   "cell_type": "code",
   "execution_count": null,
   "id": "4bf3c158-1c08-4fc6-b05e-5c64782c4d77",
   "metadata": {},
   "outputs": [],
   "source": []
  },
  {
   "cell_type": "code",
   "execution_count": null,
   "id": "82bd3215-98a6-49ba-a975-985c34f2a7f0",
   "metadata": {},
   "outputs": [],
   "source": []
  },
  {
   "cell_type": "code",
   "execution_count": null,
   "id": "c490576b-2bd8-4005-bfd4-16c414a93008",
   "metadata": {},
   "outputs": [],
   "source": []
  },
  {
   "cell_type": "code",
   "execution_count": null,
   "id": "cdf4a5d1-53b8-434b-870e-0ca7fcefe1f1",
   "metadata": {},
   "outputs": [],
   "source": []
  },
  {
   "cell_type": "code",
   "execution_count": null,
   "id": "bff7a7d4-ef8a-4a0e-bd42-1174f63acf26",
   "metadata": {},
   "outputs": [],
   "source": []
  }
 ],
 "metadata": {
  "kernelspec": {
   "display_name": "Python 3 (ipykernel)",
   "language": "python",
   "name": "python3"
  },
  "language_info": {
   "codemirror_mode": {
    "name": "ipython",
    "version": 3
   },
   "file_extension": ".py",
   "mimetype": "text/x-python",
   "name": "python",
   "nbconvert_exporter": "python",
   "pygments_lexer": "ipython3",
   "version": "3.10.0"
  }
 },
 "nbformat": 4,
 "nbformat_minor": 5
}
