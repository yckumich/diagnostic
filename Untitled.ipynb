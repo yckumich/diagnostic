{
 "cells": [
  {
   "cell_type": "code",
   "execution_count": 25,
   "id": "03bd6a0a-1d79-49f6-a6d7-3553153d957d",
   "metadata": {},
   "outputs": [],
   "source": [
    "from sqlalchemy.sql.schema import Table\n",
    "from sqlalchemy.orm.query import Query\n",
    "from sqlalchemy.orm import Session\n",
    "from data.database import engine, Base, get_db\n",
    "import pandas as pd\n",
    "from data.models import t_tableau3_t2_tjfs_join_edl_dashadmin  # Import all models generated in models.py\n",
    "import sys\n",
    "from typing import List\n",
    "from utils.filter import high_level_filter_map\n",
    "from utils.utils import convert_query_to_df, extract_unique_values, create_filter_map, convert_filter_to_query\n",
    "from typing import Dict, List\n",
    "\n",
    "import math\n",
    "import pandas as pd\n",
    "from typing import List, Any\n",
    "\n",
    "\n",
    "# Create the database tables (if they don't already exist)\n",
    "Base.metadata.create_all(bind=engine)\n",
    "\n",
    "## Total Test count: 31498"
   ]
  },
  {
   "cell_type": "code",
   "execution_count": 28,
   "id": "d9fd06a5-c9e9-44f2-8a4a-e180a16228a7",
   "metadata": {},
   "outputs": [],
   "source": [
    "db = Session(bind=engine)\n",
    "table = t_tableau3_t2_tjfs_join_edl_dashadmin\n",
    "query = db.query(table).filter(table.c['testname'].in_(['ACTH']))\n",
    "res_df = convert_query_to_df(query)"
   ]
  },
  {
   "cell_type": "code",
   "execution_count": 48,
   "id": "2f6b4fc4-5a10-4967-bb46-d326a70f17e7",
   "metadata": {},
   "outputs": [],
   "source": [
    "def get_unique_values(input_list: List[Any]) -> List[Any]:\n",
    "    \"\"\"\n",
    "    This function takes a list containing various types including float('nan') and returns a new list\n",
    "    with unique values and compresses all 'nan' values into a single occurrence.\n",
    "    \"\"\"\n",
    "    def is_nan(value):\n",
    "        return isinstance(value, float) and math.isnan(value)\n",
    "\n",
    "    nans = list(filter(is_nan, input_list))\n",
    "    non_nans = list(filter(lambda x: not is_nan(x), input_list))\n",
    "    unique_non_nans = list(set(non_nans))\n",
    "    if nans:\n",
    "        unique_non_nans.append(float('nan'))\n",
    "    return unique_non_nans\n",
    "\n",
    "def create_test_detail(df:pd.DataFrame):\n",
    "    \"\"\"\n",
    "    df contains dataframe of a single test\n",
    "    \"\"\"\n",
    "    col_to_unique_map = dict()\n",
    "    for col in df.columns:\n",
    "        col_to_unique_map[col] = get_unique_values(list(df[col]))\n",
    "    \n",
    "    return col_to_unique_map\n"
   ]
  },
  {
   "cell_type": "code",
   "execution_count": 51,
   "id": "f538afaa-f7e5-4cb0-9005-67b25a211201",
   "metadata": {},
   "outputs": [],
   "source": [
    "all_test_detail_structure = dict()\n",
    "test_df = pd.read_csv('test.csv')\n",
    "\n",
    "for test_name, df in test_df.groupby(by='testname'):\n",
    "    all_test_detail_structure[test_name] = create_test_detail(df)"
   ]
  },
  {
   "cell_type": "code",
   "execution_count": 56,
   "id": "abd8cf63-cb93-4cd5-8235-8e20ce531023",
   "metadata": {},
   "outputs": [],
   "source": [
    "import streamlit as st\n"
   ]
  },
  {
   "cell_type": "code",
   "execution_count": 57,
   "id": "06353983-0ccb-40e9-adec-4b8d6ffadbac",
   "metadata": {},
   "outputs": [
    {
     "name": "stderr",
     "output_type": "stream",
     "text": [
      "2024-06-21 00:21:15.327 \n",
      "  \u001b[33m\u001b[1mWarning:\u001b[0m to view this Streamlit app on a browser, run it with the following\n",
      "  command:\n",
      "\n",
      "    streamlit run /Users/yechank/Desktop/mm/projects/lee/lee_dataviz/venv/lib/python3.10/site-packages/ipykernel_launcher.py [ARGUMENTS]\n"
     ]
    },
    {
     "ename": "ValueError",
     "evalue": "All arrays must be of the same length",
     "output_type": "error",
     "traceback": [
      "\u001b[0;31m---------------------------------------------------------------------------\u001b[0m",
      "\u001b[0;31mValueError\u001b[0m                                Traceback (most recent call last)",
      "Cell \u001b[0;32mIn[57], line 19\u001b[0m\n\u001b[1;32m     16\u001b[0m             st\u001b[38;5;241m.\u001b[39mdataframe(comparison_df, height\u001b[38;5;241m=\u001b[39m\u001b[38;5;241m400\u001b[39m)\n\u001b[1;32m     18\u001b[0m \u001b[38;5;66;03m# Create the comparison expanders with dataframes\u001b[39;00m\n\u001b[0;32m---> 19\u001b[0m \u001b[43mcreate_comparison_expandable\u001b[49m\u001b[43m(\u001b[49m\u001b[43mall_test_detail_structure\u001b[49m\u001b[43m)\u001b[49m\n",
      "Cell \u001b[0;32mIn[57], line 12\u001b[0m, in \u001b[0;36mcreate_comparison_expandable\u001b[0;34m(data)\u001b[0m\n\u001b[1;32m      9\u001b[0m detail_dict \u001b[38;5;241m=\u001b[39m {test: data[test][detail] \u001b[38;5;28;01mfor\u001b[39;00m test \u001b[38;5;129;01min\u001b[39;00m data}\n\u001b[1;32m     11\u001b[0m \u001b[38;5;66;03m# Create a comparison DataFrame\u001b[39;00m\n\u001b[0;32m---> 12\u001b[0m comparison_df \u001b[38;5;241m=\u001b[39m \u001b[43mpd\u001b[49m\u001b[38;5;241;43m.\u001b[39;49m\u001b[43mDataFrame\u001b[49m\u001b[43m(\u001b[49m\u001b[43mdetail_dict\u001b[49m\u001b[43m)\u001b[49m\n\u001b[1;32m     14\u001b[0m \u001b[38;5;66;03m# Create an expander for each test detail\u001b[39;00m\n\u001b[1;32m     15\u001b[0m \u001b[38;5;28;01mwith\u001b[39;00m st\u001b[38;5;241m.\u001b[39mexpander(label\u001b[38;5;241m=\u001b[39mdetail):\n",
      "File \u001b[0;32m~/Desktop/mm/projects/lee/lee_dataviz/venv/lib/python3.10/site-packages/pandas/core/frame.py:778\u001b[0m, in \u001b[0;36mDataFrame.__init__\u001b[0;34m(self, data, index, columns, dtype, copy)\u001b[0m\n\u001b[1;32m    772\u001b[0m     mgr \u001b[38;5;241m=\u001b[39m \u001b[38;5;28mself\u001b[39m\u001b[38;5;241m.\u001b[39m_init_mgr(\n\u001b[1;32m    773\u001b[0m         data, axes\u001b[38;5;241m=\u001b[39m{\u001b[38;5;124m\"\u001b[39m\u001b[38;5;124mindex\u001b[39m\u001b[38;5;124m\"\u001b[39m: index, \u001b[38;5;124m\"\u001b[39m\u001b[38;5;124mcolumns\u001b[39m\u001b[38;5;124m\"\u001b[39m: columns}, dtype\u001b[38;5;241m=\u001b[39mdtype, copy\u001b[38;5;241m=\u001b[39mcopy\n\u001b[1;32m    774\u001b[0m     )\n\u001b[1;32m    776\u001b[0m \u001b[38;5;28;01melif\u001b[39;00m \u001b[38;5;28misinstance\u001b[39m(data, \u001b[38;5;28mdict\u001b[39m):\n\u001b[1;32m    777\u001b[0m     \u001b[38;5;66;03m# GH#38939 de facto copy defaults to False only in non-dict cases\u001b[39;00m\n\u001b[0;32m--> 778\u001b[0m     mgr \u001b[38;5;241m=\u001b[39m \u001b[43mdict_to_mgr\u001b[49m\u001b[43m(\u001b[49m\u001b[43mdata\u001b[49m\u001b[43m,\u001b[49m\u001b[43m \u001b[49m\u001b[43mindex\u001b[49m\u001b[43m,\u001b[49m\u001b[43m \u001b[49m\u001b[43mcolumns\u001b[49m\u001b[43m,\u001b[49m\u001b[43m \u001b[49m\u001b[43mdtype\u001b[49m\u001b[38;5;241;43m=\u001b[39;49m\u001b[43mdtype\u001b[49m\u001b[43m,\u001b[49m\u001b[43m \u001b[49m\u001b[43mcopy\u001b[49m\u001b[38;5;241;43m=\u001b[39;49m\u001b[43mcopy\u001b[49m\u001b[43m,\u001b[49m\u001b[43m \u001b[49m\u001b[43mtyp\u001b[49m\u001b[38;5;241;43m=\u001b[39;49m\u001b[43mmanager\u001b[49m\u001b[43m)\u001b[49m\n\u001b[1;32m    779\u001b[0m \u001b[38;5;28;01melif\u001b[39;00m \u001b[38;5;28misinstance\u001b[39m(data, ma\u001b[38;5;241m.\u001b[39mMaskedArray):\n\u001b[1;32m    780\u001b[0m     \u001b[38;5;28;01mfrom\u001b[39;00m \u001b[38;5;21;01mnumpy\u001b[39;00m\u001b[38;5;21;01m.\u001b[39;00m\u001b[38;5;21;01mma\u001b[39;00m \u001b[38;5;28;01mimport\u001b[39;00m mrecords\n",
      "File \u001b[0;32m~/Desktop/mm/projects/lee/lee_dataviz/venv/lib/python3.10/site-packages/pandas/core/internals/construction.py:503\u001b[0m, in \u001b[0;36mdict_to_mgr\u001b[0;34m(data, index, columns, dtype, typ, copy)\u001b[0m\n\u001b[1;32m    499\u001b[0m     \u001b[38;5;28;01melse\u001b[39;00m:\n\u001b[1;32m    500\u001b[0m         \u001b[38;5;66;03m# dtype check to exclude e.g. range objects, scalars\u001b[39;00m\n\u001b[1;32m    501\u001b[0m         arrays \u001b[38;5;241m=\u001b[39m [x\u001b[38;5;241m.\u001b[39mcopy() \u001b[38;5;28;01mif\u001b[39;00m \u001b[38;5;28mhasattr\u001b[39m(x, \u001b[38;5;124m\"\u001b[39m\u001b[38;5;124mdtype\u001b[39m\u001b[38;5;124m\"\u001b[39m) \u001b[38;5;28;01melse\u001b[39;00m x \u001b[38;5;28;01mfor\u001b[39;00m x \u001b[38;5;129;01min\u001b[39;00m arrays]\n\u001b[0;32m--> 503\u001b[0m \u001b[38;5;28;01mreturn\u001b[39;00m \u001b[43marrays_to_mgr\u001b[49m\u001b[43m(\u001b[49m\u001b[43marrays\u001b[49m\u001b[43m,\u001b[49m\u001b[43m \u001b[49m\u001b[43mcolumns\u001b[49m\u001b[43m,\u001b[49m\u001b[43m \u001b[49m\u001b[43mindex\u001b[49m\u001b[43m,\u001b[49m\u001b[43m \u001b[49m\u001b[43mdtype\u001b[49m\u001b[38;5;241;43m=\u001b[39;49m\u001b[43mdtype\u001b[49m\u001b[43m,\u001b[49m\u001b[43m \u001b[49m\u001b[43mtyp\u001b[49m\u001b[38;5;241;43m=\u001b[39;49m\u001b[43mtyp\u001b[49m\u001b[43m,\u001b[49m\u001b[43m \u001b[49m\u001b[43mconsolidate\u001b[49m\u001b[38;5;241;43m=\u001b[39;49m\u001b[43mcopy\u001b[49m\u001b[43m)\u001b[49m\n",
      "File \u001b[0;32m~/Desktop/mm/projects/lee/lee_dataviz/venv/lib/python3.10/site-packages/pandas/core/internals/construction.py:114\u001b[0m, in \u001b[0;36marrays_to_mgr\u001b[0;34m(arrays, columns, index, dtype, verify_integrity, typ, consolidate)\u001b[0m\n\u001b[1;32m    111\u001b[0m \u001b[38;5;28;01mif\u001b[39;00m verify_integrity:\n\u001b[1;32m    112\u001b[0m     \u001b[38;5;66;03m# figure out the index, if necessary\u001b[39;00m\n\u001b[1;32m    113\u001b[0m     \u001b[38;5;28;01mif\u001b[39;00m index \u001b[38;5;129;01mis\u001b[39;00m \u001b[38;5;28;01mNone\u001b[39;00m:\n\u001b[0;32m--> 114\u001b[0m         index \u001b[38;5;241m=\u001b[39m \u001b[43m_extract_index\u001b[49m\u001b[43m(\u001b[49m\u001b[43marrays\u001b[49m\u001b[43m)\u001b[49m\n\u001b[1;32m    115\u001b[0m     \u001b[38;5;28;01melse\u001b[39;00m:\n\u001b[1;32m    116\u001b[0m         index \u001b[38;5;241m=\u001b[39m ensure_index(index)\n",
      "File \u001b[0;32m~/Desktop/mm/projects/lee/lee_dataviz/venv/lib/python3.10/site-packages/pandas/core/internals/construction.py:677\u001b[0m, in \u001b[0;36m_extract_index\u001b[0;34m(data)\u001b[0m\n\u001b[1;32m    675\u001b[0m lengths \u001b[38;5;241m=\u001b[39m \u001b[38;5;28mlist\u001b[39m(\u001b[38;5;28mset\u001b[39m(raw_lengths))\n\u001b[1;32m    676\u001b[0m \u001b[38;5;28;01mif\u001b[39;00m \u001b[38;5;28mlen\u001b[39m(lengths) \u001b[38;5;241m>\u001b[39m \u001b[38;5;241m1\u001b[39m:\n\u001b[0;32m--> 677\u001b[0m     \u001b[38;5;28;01mraise\u001b[39;00m \u001b[38;5;167;01mValueError\u001b[39;00m(\u001b[38;5;124m\"\u001b[39m\u001b[38;5;124mAll arrays must be of the same length\u001b[39m\u001b[38;5;124m\"\u001b[39m)\n\u001b[1;32m    679\u001b[0m \u001b[38;5;28;01mif\u001b[39;00m have_dicts:\n\u001b[1;32m    680\u001b[0m     \u001b[38;5;28;01mraise\u001b[39;00m \u001b[38;5;167;01mValueError\u001b[39;00m(\n\u001b[1;32m    681\u001b[0m         \u001b[38;5;124m\"\u001b[39m\u001b[38;5;124mMixing dicts with non-Series may lead to ambiguous ordering.\u001b[39m\u001b[38;5;124m\"\u001b[39m\n\u001b[1;32m    682\u001b[0m     )\n",
      "\u001b[0;31mValueError\u001b[0m: All arrays must be of the same length"
     ]
    }
   ],
   "source": [
    "# Function to compare lists for each test detail and create expanders with dataframes\n",
    "def create_comparison_expandable(data: dict):\n",
    "    # Extract all test details\n",
    "    test_details = list(next(iter(data.values())).keys())\n",
    "    \n",
    "    # Iterate over each test detail\n",
    "    for detail in test_details:\n",
    "        # Create a dictionary to store lists for each test\n",
    "        detail_dict = {test: data[test][detail] for test in data}\n",
    "        \n",
    "        # Create a comparison DataFrame\n",
    "        comparison_df = pd.DataFrame(detail_dict)\n",
    "        \n",
    "        # Create an expander for each test detail\n",
    "        with st.expander(label=detail):\n",
    "            st.dataframe(comparison_df, height=400)\n",
    "\n",
    "# Create the comparison expanders with dataframes\n",
    "create_comparison_expandable(all_test_detail_structure)\n"
   ]
  },
  {
   "cell_type": "code",
   "execution_count": null,
   "id": "663bad87-f449-4bf8-b059-47dbf0f04c4c",
   "metadata": {},
   "outputs": [],
   "source": []
  },
  {
   "cell_type": "code",
   "execution_count": null,
   "id": "7464ca70-943f-4cd8-bb88-bcee56567062",
   "metadata": {},
   "outputs": [],
   "source": []
  },
  {
   "cell_type": "code",
   "execution_count": null,
   "id": "d0726f98-abc7-44c7-a9f7-402a3a4fdfb0",
   "metadata": {},
   "outputs": [],
   "source": []
  },
  {
   "cell_type": "code",
   "execution_count": null,
   "id": "bf8c1209-0cc9-4255-9060-d33c32007582",
   "metadata": {},
   "outputs": [],
   "source": []
  },
  {
   "cell_type": "code",
   "execution_count": null,
   "id": "ac80d436-3d31-41f0-acf5-8ff7ee782049",
   "metadata": {},
   "outputs": [],
   "source": []
  },
  {
   "cell_type": "code",
   "execution_count": null,
   "id": "8f2013f8-414c-451f-9ca0-02669fb981f8",
   "metadata": {},
   "outputs": [],
   "source": []
  },
  {
   "cell_type": "code",
   "execution_count": null,
   "id": "c64dd625-201a-461f-9875-af2971ebe21d",
   "metadata": {},
   "outputs": [],
   "source": []
  },
  {
   "cell_type": "code",
   "execution_count": null,
   "id": "e451e4f3-1e60-4d13-af9d-b92a296733ff",
   "metadata": {},
   "outputs": [],
   "source": []
  },
  {
   "cell_type": "code",
   "execution_count": null,
   "id": "7d7cc8d4-a0b8-40ae-8868-e520145c1b2a",
   "metadata": {},
   "outputs": [],
   "source": []
  },
  {
   "cell_type": "code",
   "execution_count": null,
   "id": "0af0bdc9-68bc-47c3-af4e-79c84732066f",
   "metadata": {},
   "outputs": [],
   "source": []
  },
  {
   "cell_type": "code",
   "execution_count": null,
   "id": "c80f0bae-0255-4b3d-8cac-44e01b6379d9",
   "metadata": {},
   "outputs": [],
   "source": []
  },
  {
   "cell_type": "code",
   "execution_count": null,
   "id": "67bac34c-a03c-4eb5-b1f2-2efec5183d52",
   "metadata": {},
   "outputs": [],
   "source": []
  },
  {
   "cell_type": "code",
   "execution_count": null,
   "id": "fb2b26e0-56c6-4964-820a-393008df90ae",
   "metadata": {},
   "outputs": [],
   "source": []
  },
  {
   "cell_type": "code",
   "execution_count": null,
   "id": "8ab5cf7e-aa83-4bcd-b421-82fac58d9e86",
   "metadata": {},
   "outputs": [],
   "source": []
  },
  {
   "cell_type": "code",
   "execution_count": null,
   "id": "31dc27e4-ef3a-4551-a6ea-063f640fad12",
   "metadata": {},
   "outputs": [],
   "source": []
  },
  {
   "cell_type": "code",
   "execution_count": null,
   "id": "4114facc-11a9-4f6e-9a40-4b3e307ff23c",
   "metadata": {},
   "outputs": [],
   "source": []
  },
  {
   "cell_type": "code",
   "execution_count": null,
   "id": "0473c062-82ca-4500-a396-9c7b4a195e19",
   "metadata": {},
   "outputs": [],
   "source": []
  },
  {
   "cell_type": "code",
   "execution_count": null,
   "id": "8c0a3991-4523-4139-905a-7461e69e1569",
   "metadata": {},
   "outputs": [],
   "source": []
  },
  {
   "cell_type": "code",
   "execution_count": null,
   "id": "4c8041f2-803b-4513-bc73-151d63cb6c4e",
   "metadata": {},
   "outputs": [],
   "source": []
  },
  {
   "cell_type": "code",
   "execution_count": null,
   "id": "596e7489-dad2-42eb-a47b-abcbeea2dd0f",
   "metadata": {},
   "outputs": [],
   "source": []
  },
  {
   "cell_type": "code",
   "execution_count": null,
   "id": "500bcfd4-edc1-4784-a854-68446ac25d2a",
   "metadata": {},
   "outputs": [],
   "source": []
  },
  {
   "cell_type": "code",
   "execution_count": null,
   "id": "abcb65a0-6046-4f53-b3af-222902ffaa05",
   "metadata": {},
   "outputs": [],
   "source": []
  },
  {
   "cell_type": "code",
   "execution_count": null,
   "id": "8642e69f-9627-4fe8-815b-49dcaae26c87",
   "metadata": {},
   "outputs": [],
   "source": []
  },
  {
   "cell_type": "code",
   "execution_count": null,
   "id": "d507784c-e611-4920-b767-69ca029aaf52",
   "metadata": {},
   "outputs": [],
   "source": []
  },
  {
   "cell_type": "code",
   "execution_count": null,
   "id": "f542b789-c3b1-4a8b-8f0a-172dde5e20d3",
   "metadata": {},
   "outputs": [],
   "source": []
  },
  {
   "cell_type": "code",
   "execution_count": 39,
   "id": "84e5670f-1d10-463d-bb70-c0b8c487f2a8",
   "metadata": {},
   "outputs": [],
   "source": [
    "def print_tree(d, indent='', last='updown'):\n",
    "    \"\"\"Recursively prints a tree structure of a nested dictionary.\"\"\"\n",
    "    if isinstance(d, dict):\n",
    "        for i, (key, value) in enumerate(d.items()):\n",
    "            up = '┌' if last == 'up' else '│'\n",
    "            down = '└' if last == 'down' else '│'\n",
    "            next_last = 'down' if i == len(d) - 1 else 'up'\n",
    "            print('{}{}'.format(indent, up if i == 0 else down))\n",
    "            print('{}{}{}'.format(indent, '└── ' if i == len(d) - 1 else '├── ', key))\n",
    "            if isinstance(value, dict):\n",
    "                next_indent = '{}{}'.format(indent, '    ' if i == len(d) - 1 else '│   ')\n",
    "                print_tree(value, next_indent, next_last)\n",
    "            elif isinstance(value, list):\n",
    "                next_indent = '{}{}'.format(indent, '    ' if i == len(d) - 1 else '│   ')\n",
    "                for j, item in enumerate(value):\n",
    "                    if j == len(value) - 1:\n",
    "                        print('{}{}{}'.format(next_indent, '└── ', item))\n",
    "                    else:\n",
    "                        print('{}{}{}'.format(next_indent, '├── ', item))\n",
    "                        \n",
    "def build_tree_string(d, indent='', last='updown'):\n",
    "    \"\"\"Recursively builds a tree structure string of a nested dictionary.\"\"\"\n",
    "    tree_string = ''\n",
    "    \n",
    "    if isinstance(d, dict):\n",
    "        for i, (key, value) in enumerate(d.items()):\n",
    "            up = '┌' if last == 'up' else '│'\n",
    "            down = '└' if last == 'down' else '│'\n",
    "            next_last = 'down' if i == len(d) - 1 else 'up'\n",
    "            tree_string += '{}{}\\n'.format(indent, up if i == 0 else down)\n",
    "            tree_string += '{}{}{}\\n'.format(indent, '└── ' if i == len(d) - 1 else '├── ', key)\n",
    "            \n",
    "            if isinstance(value, dict):\n",
    "                next_indent = '{}{}'.format(indent, '    ' if i == len(d) - 1 else '│   ')\n",
    "                tree_string += build_tree_string(value, next_indent, next_last)\n",
    "            elif isinstance(value, list):\n",
    "                next_indent = '{}{}'.format(indent, '    ' if i == len(d) - 1 else '│   ')\n",
    "                for j, item in enumerate(value):\n",
    "                    if j == len(value) - 1:\n",
    "                        tree_string += '{}{}{}\\n'.format(next_indent, '└── ', item)\n",
    "                    else:\n",
    "                        tree_string += '{}{}{}\\n'.format(next_indent, '├── ', item)\n",
    "    \n",
    "    return tree_string\n",
    "\n",
    "def build_tree_string(d, indent='', last='updown', is_top_level=True):\n",
    "    \"\"\"Recursively builds a tree structure string of a nested dictionary.\"\"\"\n",
    "    tree_string = ''\n",
    "    \n",
    "    if isinstance(d, dict):\n",
    "        for i, (key, value) in enumerate(d.items()):\n",
    "            up = '┌' if last == 'up' else '│'\n",
    "            down = '└' if last == 'down' else '│'\n",
    "            next_last = 'down' if i == len(d) - 1 else 'up'\n",
    "            if is_top_level:\n",
    "                key = f\"**{key}**\"\n",
    "            tree_string += '{}{}\\n'.format(indent, up if i == 0 else down)\n",
    "            tree_string += '{}{}{}\\n'.format(indent, '└── ' if i == len(d) - 1 else '├── ', key)\n",
    "            \n",
    "            if isinstance(value, dict):\n",
    "                next_indent = '{}{}'.format(indent, '    ' if i == len(d) - 1 else '│   ')\n",
    "                tree_string += build_tree_string(value, next_indent, next_last, is_top_level=False)\n",
    "            elif isinstance(value, list):\n",
    "                next_indent = '{}{}'.format(indent, '    ' if i == len(d) - 1 else '│   ')\n",
    "                for j, item in enumerate(value):\n",
    "                    if j == len(value) - 1:\n",
    "                        tree_string += '{}{}{}\\n'.format(next_indent, '└── ', item)\n",
    "                    else:\n",
    "                        tree_string += '{}{}{}\\n'.format(next_indent, '├── ', item)\n",
    "    \n",
    "    return tree_string\n"
   ]
  },
  {
   "cell_type": "code",
   "execution_count": 34,
   "id": "b846ff3a-2d75-403c-8c50-d1acb8b3ae7b",
   "metadata": {},
   "outputs": [],
   "source": [
    "d={'Diagnostic': {'Laboratory': ['Blood bank', 'Immunology'], 'Test Format': ['Antimicrobial susceptibility testing'], 'Test Reason': [], 'Category': []}, 'Medicine': {'Medicine': ['BCG vaccine']}, 'Condition': {'High Burden Disease': [None], 'Clinical Service': ['Cardiology'], 'Condition Name': []}, 'WHO EDL/EML': {'WHO EDL v2': [], 'WHO EDL v2 Tier': [], 'WHO EML v20': [], 'EML Category': []}}"
   ]
  },
  {
   "cell_type": "code",
   "execution_count": 41,
   "id": "ac3f9641-26c3-4318-9bd7-a596c082d621",
   "metadata": {},
   "outputs": [
    {
     "data": {
      "text/plain": [
       "'│\\n├── **Diagnostic**\\n│   ┌\\n│   ├── Laboratory\\n│   │   ├── Blood bank\\n│   │   └── Immunology\\n│   │\\n│   ├── Test Format\\n│   │   └── Antimicrobial susceptibility testing\\n│   │\\n│   ├── Test Reason\\n│   │\\n│   └── Category\\n│\\n├── **Medicine**\\n│   ┌\\n│   └── Medicine\\n│       └── BCG vaccine\\n│\\n├── **Condition**\\n│   ┌\\n│   ├── High Burden Disease\\n│   │   └── None\\n│   │\\n│   ├── Clinical Service\\n│   │   └── Cardiology\\n│   │\\n│   └── Condition Name\\n│\\n└── **WHO EDL/EML**\\n    │\\n    ├── WHO EDL v2\\n    └\\n    ├── WHO EDL v2 Tier\\n    └\\n    ├── WHO EML v20\\n    └\\n    └── EML Category\\n'"
      ]
     },
     "execution_count": 41,
     "metadata": {},
     "output_type": "execute_result"
    }
   ],
   "source": [
    "build_tree_string(d)"
   ]
  },
  {
   "cell_type": "code",
   "execution_count": null,
   "id": "273a3c7a-f5d3-4848-87a4-18fdf824af22",
   "metadata": {},
   "outputs": [],
   "source": []
  },
  {
   "cell_type": "code",
   "execution_count": null,
   "id": "c92f89cd-72a1-401b-8b97-e560b7dc8d64",
   "metadata": {},
   "outputs": [],
   "source": []
  },
  {
   "cell_type": "code",
   "execution_count": null,
   "id": "781b1d14-8c91-4824-a3f6-bbcfc1614f05",
   "metadata": {},
   "outputs": [],
   "source": []
  },
  {
   "cell_type": "code",
   "execution_count": null,
   "id": "91f08b3a-b0a2-4d26-ad83-207dd29de8d7",
   "metadata": {},
   "outputs": [],
   "source": []
  },
  {
   "cell_type": "code",
   "execution_count": null,
   "id": "c1aaee1d-c779-4831-9644-6cdf500079b0",
   "metadata": {},
   "outputs": [],
   "source": []
  },
  {
   "cell_type": "code",
   "execution_count": null,
   "id": "e669c990-699b-400f-90db-85c37b0c07a0",
   "metadata": {},
   "outputs": [],
   "source": []
  },
  {
   "cell_type": "code",
   "execution_count": null,
   "id": "0623f84c-8a91-4b69-b088-76f5017ae329",
   "metadata": {},
   "outputs": [],
   "source": []
  },
  {
   "cell_type": "code",
   "execution_count": null,
   "id": "4bf3c158-1c08-4fc6-b05e-5c64782c4d77",
   "metadata": {},
   "outputs": [],
   "source": []
  },
  {
   "cell_type": "code",
   "execution_count": null,
   "id": "82bd3215-98a6-49ba-a975-985c34f2a7f0",
   "metadata": {},
   "outputs": [],
   "source": []
  },
  {
   "cell_type": "code",
   "execution_count": null,
   "id": "c490576b-2bd8-4005-bfd4-16c414a93008",
   "metadata": {},
   "outputs": [],
   "source": []
  },
  {
   "cell_type": "code",
   "execution_count": null,
   "id": "cdf4a5d1-53b8-434b-870e-0ca7fcefe1f1",
   "metadata": {},
   "outputs": [],
   "source": []
  },
  {
   "cell_type": "code",
   "execution_count": null,
   "id": "bff7a7d4-ef8a-4a0e-bd42-1174f63acf26",
   "metadata": {},
   "outputs": [],
   "source": []
  }
 ],
 "metadata": {
  "kernelspec": {
   "display_name": "Python 3 (ipykernel)",
   "language": "python",
   "name": "python3"
  },
  "language_info": {
   "codemirror_mode": {
    "name": "ipython",
    "version": 3
   },
   "file_extension": ".py",
   "mimetype": "text/x-python",
   "name": "python",
   "nbconvert_exporter": "python",
   "pygments_lexer": "ipython3",
   "version": "3.10.0"
  }
 },
 "nbformat": 4,
 "nbformat_minor": 5
}
